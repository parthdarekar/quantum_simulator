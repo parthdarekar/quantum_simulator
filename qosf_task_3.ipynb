{
 "cells": [
  {
   "cell_type": "code",
   "execution_count": 1,
   "metadata": {},
   "outputs": [],
   "source": [
    "#Qosf mentorship screening task 3, cohort 3\n",
    "#Task to implement a quantum simulator\n",
    "import numpy as np\n",
    "from numpy import random\n",
    "from run_program import run_program"
   ]
  },
  {
   "cell_type": "markdown",
   "metadata": {},
   "source": [
    "To create a quantum circuit, change the input of the function run_program() according to the following information\n",
    "\n",
    "**NOTE: Big endian encoding is followed. Therefore the leftmost bit belongs to the first qubit, rightmost bit belongs to the last qubit.**"
   ]
  },
  {
   "cell_type": "markdown",
   "metadata": {},
   "source": [
    "***final_q_state=run_program(num_qubits, gates, shots, q_state)***\n",
    "\n",
    "**num_qubits:** number of qubits required(eg: 1,2,3..)\n",
    "\n",
    "upper limit of num_qubits depends on the system, but the output gets messy beyond 4-5 qubits.\n",
    "\n",
    "\n",
    "\n",
    "**gates:** gates applied to the respective qubits.\n",
    "\n",
    "Only one qubit per gate is supported. 1st gate is applied to the 1st qubit, 2nd gate to 2nd qubit and so on(eg: ['H','X']: Hadamard to the first qubit, X gate to the second)\n",
    "\n",
    "\n",
    "Gates currently supported are: ['I',  'X',  'Y',  'Z',  'H',  'CNOT'], where the symbols have their standard meaning.\n",
    "\n",
    "**For CNOT, currently it is assumed that the corresponding qubit is the target qubit and the consecutive one is the control.** Eg:\n",
    "gates=['CNOT', 'H']. This means CNOT is applied to the 1st and 2nd qubits, with the 1st qubit as control and 2nd as target. Also 'H' in this case will be ignored.\n",
    "\n",
    "As observed, CNOT cannot be the gate for the last qubit as there is no target qubit(this will lead to an error)\n",
    "\n",
    "\n",
    "\n",
    "**shots:** number of times the circuit is to be executed, in other words the number of measurements to be made.\n",
    "\n",
    "\n",
    "\n",
    "**q_state:** initial quantum state. For building a quantum circuit from the start, q_state should be left empty i.e. q_state=[].\n",
    "\n",
    "However if the output state of a previous circuit is needed for the new circuit, then input q_state=final_q_state, where final_q_state is obtained from the output of a previous circuit. This is particularly useful when one needs to apply several gates to some particular qubits.\n",
    "\n",
    "When using final_q_state as the input, keep in mind that the circuit sizes for the previous execution(the circuit that generated final_q_state) and the current execution(the circuit being built) must be the same.\n",
    "\n",
    "\n",
    "\n",
    "**final_q_state:** final quantum state returned by run_program()\n",
    "\n"
   ]
  },
  {
   "cell_type": "markdown",
   "metadata": {},
   "source": [
    "**DEMO: To generate the Bell state B_00(or ket(phi+))**"
   ]
  },
  {
   "cell_type": "markdown",
   "metadata": {},
   "source": [
    "\n",
    "The process to generate the required Bell state is straightforward. A hadamard gate is applied to the first qubit followed by a CNOT gate, with the target qubit being the second qubit.\n"
   ]
  },
  {
   "cell_type": "markdown",
   "metadata": {},
   "source": [
    "\n",
    "Firstly a quantum circuit is build that applies a Hadamard gate to the first qubit and leaves the second qubit as it is.\n"
   ]
  },
  {
   "cell_type": "code",
   "execution_count": 2,
   "metadata": {},
   "outputs": [
    {
     "name": "stdout",
     "output_type": "stream",
     "text": [
      "Initial quantum state: [1.+0.j 0.+0.j 0.+0.j 0.+0.j]\n",
      "\n",
      "Measurement results[index:counts]:\n",
      "00 530\n",
      "10 470\n",
      "\n",
      "Final quantum state: [0.70710678+0.j 0.        +0.j 0.70710678+0.j 0.        +0.j]\n"
     ]
    }
   ],
   "source": [
    "final_q_state=run_program(num_qubits=2, gates=['H','I'], shots=1000, q_state=[])\n",
    "print(\"Final quantum state:\",final_q_state)"
   ]
  },
  {
   "cell_type": "markdown",
   "metadata": {},
   "source": [
    "\n",
    "Now the output quantum state is used as input to the new circuit, hence now q_state will be final_q_state of the previous circuit.\n",
    "\n",
    "Here, the CNOT gate is applied to the 2 qubits, with the first qubit as the control and the second as the target.\n"
   ]
  },
  {
   "cell_type": "code",
   "execution_count": 3,
   "metadata": {},
   "outputs": [
    {
     "name": "stdout",
     "output_type": "stream",
     "text": [
      "Initial quantum state: [0.70710678+0.j 0.        +0.j 0.70710678+0.j 0.        +0.j]\n",
      "\n",
      "Measurement results[index:counts]:\n",
      "00 496\n",
      "11 504\n",
      "\n",
      "Final quantum state: [0.70710678+0.j 0.        +0.j 0.        +0.j 0.70710678+0.j]\n"
     ]
    }
   ],
   "source": [
    "final_q_state=run_program(num_qubits=2, gates=['CNOT','I'], shots=1000, q_state=final_q_state)\n",
    "print(\"Final quantum state:\",final_q_state)"
   ]
  },
  {
   "cell_type": "markdown",
   "metadata": {},
   "source": [
    "**DEMO 2: To generate a uniform superposition state of 4 qubits**\n",
    "\n",
    "This can be done with a higher number of qubits as well, but the output gets messy."
   ]
  },
  {
   "cell_type": "markdown",
   "metadata": {},
   "source": [
    "Here, a Hadamard gate needs to be applied to every qubit."
   ]
  },
  {
   "cell_type": "code",
   "execution_count": 4,
   "metadata": {},
   "outputs": [
    {
     "name": "stdout",
     "output_type": "stream",
     "text": [
      "Initial quantum state: [1.+0.j 0.+0.j 0.+0.j 0.+0.j 0.+0.j 0.+0.j 0.+0.j 0.+0.j 0.+0.j 0.+0.j\n",
      " 0.+0.j 0.+0.j 0.+0.j 0.+0.j 0.+0.j 0.+0.j]\n",
      "\n",
      "Measurement results[index:counts]:\n",
      "0000 55\n",
      "0001 55\n",
      "0010 63\n",
      "0011 71\n",
      "0100 63\n",
      "0101 82\n",
      "0110 64\n",
      "0111 50\n",
      "1000 76\n",
      "1001 56\n",
      "1010 69\n",
      "1011 64\n",
      "1100 59\n",
      "1101 45\n",
      "1110 63\n",
      "1111 65\n",
      "\n",
      "Final quantum state: [0.25+0.j 0.25+0.j 0.25+0.j 0.25+0.j 0.25+0.j 0.25+0.j 0.25+0.j 0.25+0.j\n",
      " 0.25+0.j 0.25+0.j 0.25+0.j 0.25+0.j 0.25+0.j 0.25+0.j 0.25+0.j 0.25+0.j]\n"
     ]
    }
   ],
   "source": [
    "final_q_state=run_program(num_qubits=4, gates=['H','H','H','H'], shots=1000, q_state=[])\n",
    "print(\"Final quantum state:\",final_q_state)"
   ]
  },
  {
   "cell_type": "code",
   "execution_count": null,
   "metadata": {},
   "outputs": [],
   "source": []
  }
 ],
 "metadata": {
  "kernelspec": {
   "display_name": "Python 3",
   "language": "python",
   "name": "python3"
  },
  "language_info": {
   "codemirror_mode": {
    "name": "ipython",
    "version": 3
   },
   "file_extension": ".py",
   "mimetype": "text/x-python",
   "name": "python",
   "nbconvert_exporter": "python",
   "pygments_lexer": "ipython3",
   "version": "3.8.2"
  }
 },
 "nbformat": 4,
 "nbformat_minor": 4
}
